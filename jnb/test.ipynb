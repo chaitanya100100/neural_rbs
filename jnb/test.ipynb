{
 "cells": [
  {
   "cell_type": "code",
   "execution_count": 2,
   "id": "baa8a41b",
   "metadata": {},
   "outputs": [],
   "source": [
    "import numpy as np\n",
    "import h5py\n",
    "from matplotlib import pyplot as plt\n",
    "import yaml\n",
    "import torch\n",
    "import torchvision\n",
    "import sys\n",
    "import json\n",
    "import os\n",
    "from os.path import join\n",
    "import glob\n",
    "sys.path.append('../')\n"
   ]
  },
  {
   "cell_type": "code",
   "execution_count": 18,
   "id": "bf4a0348",
   "metadata": {},
   "outputs": [
    {
     "name": "stdout",
     "output_type": "stream",
     "text": [
      "tensor([[1, 2, 1, 2],\n",
      "        [1, 2, 3, 4],\n",
      "        [1, 2, 5, 6],\n",
      "        [3, 4, 1, 2],\n",
      "        [3, 4, 3, 4],\n",
      "        [3, 4, 5, 6],\n",
      "        [5, 6, 1, 2],\n",
      "        [5, 6, 3, 4],\n",
      "        [5, 6, 5, 6],\n",
      "        [7, 8, 7, 8],\n",
      "        [7, 8, 1, 8],\n",
      "        [1, 8, 7, 8],\n",
      "        [1, 8, 1, 8]])\n",
      "(tensor([[0., 0., 0., 0.],\n",
      "        [1., 2., 3., 4.],\n",
      "        [1., 2., 5., 6.],\n",
      "        [3., 4., 1., 2.],\n",
      "        [0., 0., 0., 0.],\n",
      "        [3., 4., 5., 6.],\n",
      "        [5., 6., 1., 2.],\n",
      "        [5., 6., 3., 4.],\n",
      "        [0., 0., 0., 0.]]), tensor([[0., 0., 0., 0.],\n",
      "        [7., 8., 1., 8.],\n",
      "        [1., 8., 7., 8.],\n",
      "        [0., 0., 0., 0.]]))\n",
      "[tensor([[ 2.,  4.,  8., 10.],\n",
      "        [ 6.,  8.,  6.,  8.],\n",
      "        [10., 12.,  4.,  6.]]), tensor([[7., 8., 1., 8.],\n",
      "        [1., 8., 7., 8.]])]\n"
     ]
    }
   ],
   "source": [
    "a = torch.tensor([[1,2], [3,4], [5,6]])\n",
    "b = torch.tensor([[7,8], [1,8]])\n",
    "feats = [a, b]\n",
    "num_obj = [3,2]\n",
    "\n",
    "num_rel = [no*no for no in num_obj]  # num_rel = R\n",
    "mask = 1-torch.cat([torch.eye(no).view(-1) for no in num_obj])  # BR\n",
    "\n",
    "rel_inp = torch.cat([torch.cat([ft.repeat_interleave(no, 0), ft.repeat(no, 1)], 1) for ft, no in zip(feats, num_obj)], 0)  # BR x 2d\n",
    "print(rel_inp)\n",
    "effects = rel_inp  # BR x h\n",
    "effects = effects * mask[:, None]\n",
    "effects = effects.split(num_rel, dim=0)  # B x [R x h]\n",
    "print(effects)\n",
    "effects = [eff.view(no, no, -1).sum(1) for eff, no in zip(effects, num_obj)]  # B x [O x h]\n",
    "print(effects)\n"
   ]
  },
  {
   "cell_type": "code",
   "execution_count": 8,
   "id": "2ecf3235",
   "metadata": {},
   "outputs": [],
   "source": [
    "from utils.cpconfig import update_to_ccn2_paths\n",
    "from utils.train_utils import get_readout_dataloader\n",
    "from dataset.data_utils import SCENARIOS"
   ]
  },
  {
   "cell_type": "code",
   "execution_count": 18,
   "id": "23aba5e0",
   "metadata": {},
   "outputs": [],
   "source": [
    "cfg = yaml.safe_load(\"\"\"\n",
    "data:\n",
    "  dataset_class: object_feats_readout\n",
    "  physion_path: '/mnt/fs3/rmvenkat/data/physion_train_data/'\n",
    "  saved_data_path: /mnt/fs5/chpatel/saved_data/dataset\n",
    "  dynamic_feat_dir:  /ccn2/u/rmvenkat/chpatel/test/gnn_aefullneg_hlr_all/feats/\n",
    "  scenario : 'Dominoes'\n",
    "  split_percentage: 0.9\n",
    "\n",
    "model:\n",
    "  model_name: linear_readout\n",
    "  ckpt_path: ''\n",
    "  feat_size: 128\n",
    "  num_pointers: 8  # used in graph readout\n",
    "  max_num_obj: -1  # It will be decided automatically\n",
    "  nonlinearity: 'sigmoid'\n",
    "  num_frames: -1  # It will be decided by readout mode and other parameters\n",
    "  readout_mode: 'full'  # ['obs_sim', 'obs', 'full']\n",
    "  seed_len: 15\n",
    "  unroll: 45\n",
    "\"\"\")\n",
    "cfg = update_to_ccn2_paths(cfg)"
   ]
  },
  {
   "cell_type": "code",
   "execution_count": 23,
   "id": "b32823c1",
   "metadata": {},
   "outputs": [
    {
     "name": "stdout",
     "output_type": "stream",
     "text": [
      "Collide None Dataset size 1158\n",
      "Collide 7\n",
      "Dominoes None Dataset size 1146\n",
      "Dominoes 11\n",
      "Drop None Dataset size 1150\n",
      "Drop 7\n",
      "Roll None Dataset size 1149\n",
      "Roll 7\n",
      "Contain None Dataset size 1109\n",
      "Contain 10\n",
      "Drape None Dataset size 1149\n",
      "Drape 6\n",
      "Link None Dataset size 1103\n",
      "Link 15\n",
      "Support None Dataset size 1093\n",
      "Support 9\n"
     ]
    }
   ],
   "source": [
    "for scen in SCENARIOS:\n",
    "    cfg['data']['scenario'] = scen\n",
    "    ds = get_readout_dataloader(data_config=cfg['data'])\n",
    "    max_obj = 0\n",
    "    for s in ds:\n",
    "        max_obj = max(s['obs_sim_feats'][0].shape[1], max_obj)\n",
    "    print(scen, max_obj)"
   ]
  },
  {
   "cell_type": "code",
   "execution_count": 35,
   "id": "633aa574",
   "metadata": {},
   "outputs": [],
   "source": [
    "x = torch.tensor([0, 5, 30, 40]).long()"
   ]
  },
  {
   "cell_type": "code",
   "execution_count": 36,
   "id": "dbc3240f",
   "metadata": {},
   "outputs": [],
   "source": [
    "a = x[1:] - x[:-1]"
   ]
  },
  {
   "cell_type": "code",
   "execution_count": 38,
   "id": "d2854964",
   "metadata": {},
   "outputs": [
    {
     "data": {
      "text/plain": [
       "tensor([2.6667, 2.6667, 2.6667, 2.6667, 2.6667, 0.5333, 0.5333, 0.5333, 0.5333,\n",
       "        0.5333, 0.5333, 0.5333, 0.5333, 0.5333, 0.5333, 0.5333, 0.5333, 0.5333,\n",
       "        0.5333, 0.5333, 0.5333, 0.5333, 0.5333, 0.5333, 0.5333, 0.5333, 0.5333,\n",
       "        0.5333, 0.5333, 0.5333, 1.3333, 1.3333, 1.3333, 1.3333, 1.3333, 1.3333,\n",
       "        1.3333, 1.3333, 1.3333, 1.3333])"
      ]
     },
     "execution_count": 38,
     "metadata": {},
     "output_type": "execute_result"
    }
   ],
   "source": [
    "b"
   ]
  },
  {
   "cell_type": "code",
   "execution_count": 33,
   "id": "f0fd7fc8",
   "metadata": {},
   "outputs": [
    {
     "data": {
      "text/plain": [
       "tensor([ 5, 10,  5])"
      ]
     },
     "execution_count": 33,
     "metadata": {},
     "output_type": "execute_result"
    }
   ],
   "source": [
    "a"
   ]
  },
  {
   "cell_type": "code",
   "execution_count": null,
   "id": "c89b74fb",
   "metadata": {},
   "outputs": [],
   "source": []
  }
 ],
 "metadata": {
  "kernelspec": {
   "display_name": "Python 3 (ipykernel)",
   "language": "python",
   "name": "python3"
  },
  "language_info": {
   "codemirror_mode": {
    "name": "ipython",
    "version": 3
   },
   "file_extension": ".py",
   "mimetype": "text/x-python",
   "name": "python",
   "nbconvert_exporter": "python",
   "pygments_lexer": "ipython3",
   "version": "3.7.13"
  }
 },
 "nbformat": 4,
 "nbformat_minor": 5
}
