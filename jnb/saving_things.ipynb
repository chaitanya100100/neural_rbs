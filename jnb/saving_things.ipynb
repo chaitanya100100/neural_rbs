{
 "cells": [
  {
   "cell_type": "code",
   "execution_count": 2,
   "id": "4989b249",
   "metadata": {},
   "outputs": [],
   "source": [
    "import sys\n",
    "sys.path.append('..')"
   ]
  },
  {
   "cell_type": "code",
   "execution_count": 1,
   "id": "0d6ea14e",
   "metadata": {},
   "outputs": [],
   "source": [
    "from pathos.multiprocessing import ProcessingPool as Pool\n",
    "import numpy as np\n",
    "import glob\n",
    "from tqdm.notebook import tqdm\n",
    "import os\n",
    "import h5py\n",
    "import json"
   ]
  },
  {
   "cell_type": "code",
   "execution_count": null,
   "id": "a9e7782d",
   "metadata": {},
   "outputs": [],
   "source": [
    "# mean = np.loadtxt('/mnt/disks/sdb/saved_data/ae_full_only_link/static_mean.csv')\n",
    "# std = np.loadtxt('/mnt/disks/sdb/saved_data/ae_full_only_link/static_std.csv')\n",
    "# np.set_printoptions(precision=3, suppress=True)\n",
    "# print(np.stack([mean, std]).T)"
   ]
  },
  {
   "cell_type": "code",
   "execution_count": null,
   "id": "fba2f70f",
   "metadata": {},
   "outputs": [],
   "source": [
    "def save_mean_std_of_feats(static_feat_dir):\n",
    "    print(static_feat_dir)\n",
    "    obj_feats = np.load(static_feat_dir + '/static_feats.npz')\n",
    "\n",
    "    stacked_feats = []\n",
    "    for k in obj_feats.keys():\n",
    "        feat = obj_feats[k]\n",
    "        feat = feat.reshape([-1, feat.shape[-1]])\n",
    "        stacked_feats.append(feat)\n",
    "    stacked_feats = np.concatenate(stacked_feats)\n",
    "    print(stacked_feats.shape, len(obj_feats.keys()))\n",
    "    mean = stacked_feats.mean(0)\n",
    "    std = stacked_feats.std(0)\n",
    "    \n",
    "    np.savetxt(static_feat_dir + '/static_mean.csv', mean, delimiter=\",\", fmt='%.6f')\n",
    "    np.savetxt(static_feat_dir + '/static_std.csv', std, delimiter=\",\", fmt='%.6f')\n",
    "    print('done')\n",
    "\n",
    "save_mean_std_of_feats('/ccn2/u/rmvenkat/chpatel/test/ae_rn34_fnr/feats/')\n",
    "# all_dirs = glob.glob('/mnt/disks/sdb/saved_data/*')\n",
    "# for dr in all_dirs:\n",
    "#     save_mean_std_of_feats(dr)"
   ]
  },
  {
   "cell_type": "code",
   "execution_count": null,
   "id": "c40b5728",
   "metadata": {},
   "outputs": [],
   "source": [
    "def get_contact_label_from_h5(f):\n",
    "    frames = list(f['frames'])\n",
    "    target_contacted_zone = False\n",
    "    for frame in reversed(frames):\n",
    "        lbl = f['frames'][frame]['labels']['target_contacting_zone'][()]\n",
    "        if lbl:  # as long as one frame touching, label is True\n",
    "            target_contacted_zone = True\n",
    "            break\n",
    "    return target_contacted_zone\n",
    "\n",
    "def get_contact_label_from_file(h5_fpath):\n",
    "    with h5py.File(h5_fpath, 'r') as h5:\n",
    "        lab = int(get_contact_label_from_h5(h5))\n",
    "    return h5_fpath, lab\n",
    "        \n",
    "def save_readout_labels(scenario):\n",
    "    out_path = f'/mnt/fs5/chpatel/saved_data/dataset/ocp_labels_{scenario}.json'\n",
    "    data_root = '/mnt/fs3/rmvenkat/data/physion_train_data'\n",
    "    subsets = ['dynamics_training', 'readout_training', 'model_testing']\n",
    "\n",
    "    out_path = f'/ccn2/u/rmvenkat/chpatel/saved_data/dataset_v2/ocp_labels_{scenario}.json'\n",
    "    data_root = '/ccn2/u/chpatel/physion_v2_hlink/'\n",
    "    subsets = ['dynamics_training']\n",
    "\n",
    "    ret = {}\n",
    "    for ss in tqdm(subsets):\n",
    "        all_hdf5 = glob.glob(os.path.join(data_root, ss, scenario, '*.hdf5'))\n",
    "        \n",
    "        out = Pool(8).map(get_contact_label_from_file, all_hdf5)\n",
    "        for k, v in out:\n",
    "            ky = ss + '/' + os.path.basename(k)\n",
    "            ret[ky] = v\n",
    "\n",
    "    with open(out_path, 'w') as f:\n",
    "        json.dump(ret,  f)\n",
    "    return ret\n",
    "\n",
    "\n",
    "SCENARIOS = [\n",
    "#     'Collide',\n",
    "    'Dominoes',\n",
    "    'Drop',\n",
    "#     'Roll',\n",
    "#     'Contain',\n",
    "#     'Drape',\n",
    "#     'Link',\n",
    "#     'Support',\n",
    "]\n",
    "\n",
    "for scen in SCENARIOS:\n",
    "    ret = save_readout_labels(scen)"
   ]
  },
  {
   "cell_type": "code",
   "execution_count": null,
   "id": "0d484bca",
   "metadata": {},
   "outputs": [],
   "source": [
    "def gen_hlinks(src_dir, dest_dir):\n",
    "    os.makedirs(dest_dir, exist_ok=False)\n",
    "    all_hdf5 = glob.glob(os.path.join(src_dir, '*/*.hdf5'))\n",
    "    for hf in all_hdf5:\n",
    "        tokens = hf.split('/')\n",
    "        lnd = os.path.join(dest_dir, tokens[-2] + '_' + tokens[-1])\n",
    "        print(hf, lnd)\n",
    "        os.symlink(hf, lnd)\n",
    "\n",
    "src_dir = \"/ccn2/u/rmvenkat/data/testing_physion/all_sce_all_fixed/lf_0/dominoes_all_movies/train\"\n",
    "dest_dir = \"/ccn2/u/chpatel/physion_v2_hlink/dynamics_training/Dominoes\"\n",
    "# gen_hlinks(src_dir, dest_dir)"
   ]
  }
 ],
 "metadata": {
  "kernelspec": {
   "display_name": "Python 3 (ipykernel)",
   "language": "python",
   "name": "python3"
  },
  "language_info": {
   "codemirror_mode": {
    "name": "ipython",
    "version": 3
   },
   "file_extension": ".py",
   "mimetype": "text/x-python",
   "name": "python",
   "nbconvert_exporter": "python",
   "pygments_lexer": "ipython3",
   "version": "3.7.13"
  }
 },
 "nbformat": 4,
 "nbformat_minor": 5
}
